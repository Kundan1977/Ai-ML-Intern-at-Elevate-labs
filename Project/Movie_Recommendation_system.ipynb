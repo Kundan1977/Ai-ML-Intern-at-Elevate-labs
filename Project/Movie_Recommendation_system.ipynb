{
 "cells": [
  {
   "cell_type": "code",
   "execution_count": 2,
   "id": "c59e09b5-bbff-48db-ac06-835586c506c0",
   "metadata": {},
   "outputs": [
    {
     "name": "stdout",
     "output_type": "stream",
     "text": [
      "Movies Data:\n",
      "   movieId                               title  \\\n",
      "0        1                    Toy Story (1995)   \n",
      "1        2                      Jumanji (1995)   \n",
      "2        3             Grumpier Old Men (1995)   \n",
      "3        4            Waiting to Exhale (1995)   \n",
      "4        5  Father of the Bride Part II (1995)   \n",
      "\n",
      "                                        genres  \n",
      "0  Adventure|Animation|Children|Comedy|Fantasy  \n",
      "1                   Adventure|Children|Fantasy  \n",
      "2                               Comedy|Romance  \n",
      "3                         Comedy|Drama|Romance  \n",
      "4                                       Comedy  \n",
      "\n",
      "Ratings Data:\n",
      "   userId  movieId  rating  timestamp\n",
      "0       1        1     4.0  964982703\n",
      "1       1        3     4.0  964981247\n",
      "2       1        6     4.0  964982224\n",
      "3       1       47     5.0  964983815\n",
      "4       1       50     5.0  964982931\n",
      "\n",
      "Merged Data:\n",
      "   userId  movieId  rating  timestamp                        title  \\\n",
      "0       1        1     4.0  964982703             Toy Story (1995)   \n",
      "1       1        3     4.0  964981247      Grumpier Old Men (1995)   \n",
      "2       1        6     4.0  964982224                  Heat (1995)   \n",
      "3       1       47     5.0  964983815  Seven (a.k.a. Se7en) (1995)   \n",
      "4       1       50     5.0  964982931   Usual Suspects, The (1995)   \n",
      "\n",
      "                                        genres  \n",
      "0  Adventure|Animation|Children|Comedy|Fantasy  \n",
      "1                               Comedy|Romance  \n",
      "2                        Action|Crime|Thriller  \n",
      "3                             Mystery|Thriller  \n",
      "4                       Crime|Mystery|Thriller  \n",
      "\n",
      "Missing Values:\n",
      " userId       0\n",
      "movieId      0\n",
      "rating       0\n",
      "timestamp    0\n",
      "title        0\n",
      "genres       0\n",
      "dtype: int64\n"
     ]
    }
   ],
   "source": [
    "# Day 1: Data Loading & Exploration\n",
    "import pandas as pd\n",
    "\n",
    "# Load datasets\n",
    "movies = pd.read_csv('movies.csv')\n",
    "ratings = pd.read_csv('ratings.csv')\n",
    "\n",
    "# Display basic info\n",
    "print(\"Movies Data:\")\n",
    "print(movies.head())\n",
    "print(\"\\nRatings Data:\")\n",
    "print(ratings.head())\n",
    "\n",
    "# # Merge both datasets\n",
    "data = pd.merge(ratings, movies, on='movieId')\n",
    "print(\"\\nMerged Data:\")\n",
    "print(data.head())\n",
    "\n",
    "# Check nulls\n",
    "print(\"\\nMissing Values:\\n\", data.isnull().sum())\n"
   ]
  },
  {
   "cell_type": "code",
   "execution_count": 3,
   "id": "5937f59f-759f-41a4-b337-93222f38c6ea",
   "metadata": {},
   "outputs": [
    {
     "name": "stdout",
     "output_type": "stream",
     "text": [
      "Filtered data shape: (36214, 6)\n"
     ]
    }
   ],
   "source": [
    "# Day 2: Data Preprocessing\n",
    "\n",
    "# Remove missing values\n",
    "data.dropna(inplace=True)\n",
    "\n",
    "# Remove duplicates\n",
    "data.drop_duplicates(inplace=True)\n",
    "\n",
    "# Filter data for active users and popular movies\n",
    "min_movie_ratings = 50\n",
    "min_user_ratings = 50\n",
    "\n",
    "filtered_movies = data['movieId'].value_counts() > min_movie_ratings\n",
    "filtered_users = data['userId'].value_counts() > min_user_ratings\n",
    "\n",
    "data = data[data['movieId'].isin(filtered_movies[filtered_movies].index)]\n",
    "data = data[data['userId'].isin(filtered_users[filtered_users].index)]\n",
    "\n",
    "print(\"Filtered data shape:\", data.shape)\n"
   ]
  },
  {
   "cell_type": "code",
   "execution_count": 5,
   "id": "4f7cc944-746f-4d2c-ac98-effef18573cb",
   "metadata": {},
   "outputs": [
    {
     "name": "stdout",
     "output_type": "stream",
     "text": [
      "['Jurassic Park (1993)', 'Forrest Gump (1994)', 'Toy Story 2 (1999)', 'Star Wars: Episode IV - A New Hope (1977)', 'Shrek (2001)']\n"
     ]
    }
   ],
   "source": [
    "# Day 3: Collaborative Filtering Model\n",
    "\n",
    "from sklearn.metrics.pairwise import cosine_similarity\n",
    "\n",
    "# Create user-item matrix\n",
    "user_movie_matrix = data.pivot_table(index='userId', columns='title', values='rating').fillna(0)\n",
    "\n",
    "# Compute cosine similarity\n",
    "movie_similarity = cosine_similarity(user_movie_matrix.T)\n",
    "movie_similarity_df = pd.DataFrame(movie_similarity, index=user_movie_matrix.columns, columns=user_movie_matrix.columns)\n",
    "\n",
    "# Function to recommend movies\n",
    "def recommend_movies(movie_name, n=5):\n",
    "    if movie_name not in movie_similarity_df:\n",
    "        return \"Movie not found!\"\n",
    "    similar_scores = movie_similarity_df[movie_name].sort_values(ascending=False)[1:n+1]\n",
    "    return list(similar_scores.index)\n",
    "\n",
    "# Example\n",
    "print(recommend_movies(\"Toy Story (1995)\"))\n"
   ]
  },
  {
   "cell_type": "code",
   "execution_count": 6,
   "id": "64a098e4-5565-4c4c-9a91-1b1f776f5d5e",
   "metadata": {},
   "outputs": [
    {
     "name": "stdout",
     "output_type": "stream",
     "text": [
      "['Turbo (2013)', 'Monsters, Inc. (2001)', 'Asterix and the Vikings (Astérix et les Vikings) (2006)', 'The Good Dinosaur (2015)', 'Shrek the Third (2007)']\n"
     ]
    }
   ],
   "source": [
    "# Day 4: Content-Based Filtering\n",
    "\n",
    "from sklearn.feature_extraction.text import CountVectorizer\n",
    "\n",
    "# Handle missing genres\n",
    "movies['genres'] = movies['genres'].fillna('')\n",
    "\n",
    "# Vectorize genres\n",
    "vectorizer = CountVectorizer(token_pattern='[a-zA-Z0-9\\-]+')\n",
    "genre_matrix = vectorizer.fit_transform(movies['genres'])\n",
    "\n",
    "# Compute cosine similarity\n",
    "genre_similarity = cosine_similarity(genre_matrix)\n",
    "\n",
    "# Recommend by genre\n",
    "genre_sim_df = pd.DataFrame(genre_similarity, index=movies['title'], columns=movies['title'])\n",
    "\n",
    "def recommend_by_genre(movie_name, n=5):\n",
    "    if movie_name not in genre_sim_df:\n",
    "        return \"Movie not found!\"\n",
    "    similar_movies = genre_sim_df[movie_name].sort_values(ascending=False)[1:n+1]\n",
    "    return list(similar_movies.index)\n",
    "\n",
    "print(recommend_by_genre(\"Toy Story (1995)\"))\n"
   ]
  }
 ],
 "metadata": {
  "kernelspec": {
   "display_name": "Python 3 (ipykernel)",
   "language": "python",
   "name": "python3"
  },
  "language_info": {
   "codemirror_mode": {
    "name": "ipython",
    "version": 3
   },
   "file_extension": ".py",
   "mimetype": "text/x-python",
   "name": "python",
   "nbconvert_exporter": "python",
   "pygments_lexer": "ipython3",
   "version": "3.13.5"
  }
 },
 "nbformat": 4,
 "nbformat_minor": 5
}
